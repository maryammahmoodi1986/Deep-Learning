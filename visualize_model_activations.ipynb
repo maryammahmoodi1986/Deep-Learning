{
  "nbformat": 4,
  "nbformat_minor": 0,
  "metadata": {
    "colab": {
      "provenance": []
    },
    "kernelspec": {
      "name": "python3",
      "display_name": "Python 3"
    },
    "language_info": {
      "name": "python"
    }
  },
  "cells": [
    {
      "cell_type": "markdown",
      "source": [
        "This code defines a convolutional neural network (CNN) to classify images from the Fashion-MNIST dataset. It trains the model and saves it to a file named 'my_model.h5'. It then retrieves the filters from the first convolutional layer of the trained model and normalizes them for visualization. Finally, it plots the filters as an 8x4 grid of grayscale images."
      ],
      "metadata": {
        "id": "k83TQXIO4Hrj"
      }
    },
    {
      "cell_type": "code",
      "source": [
        "import matplotlib.pyplot as plt\n",
        "import tensorflow as tf\n",
        "\n",
        "# Load the Fashion-MNIST dataset\n",
        "(x_train, y_train), (_, _) = tf.keras.datasets.fashion_mnist.load_data()\n",
        "\n",
        "# Reshape the data to add the channel dimension (1 for grayscale images)\n",
        "x_train = x_train.reshape(x_train.shape[0], 28, 28, 1)\n",
        "\n",
        "# Normalize the pixel values to be between 0 and 1\n",
        "x_train = x_train.astype('float32') / 255\n",
        "\n",
        "# Define the model architecture\n",
        "model = tf.keras.Sequential([\n",
        "    tf.keras.layers.Conv2D(32, (3, 3), activation='relu', input_shape=(28, 28, 1)),\n",
        "    tf.keras.layers.MaxPooling2D((2, 2)),\n",
        "    tf.keras.layers.Flatten(),\n",
        "    tf.keras.layers.Dense(10, activation='softmax')\n",
        "])\n",
        "\n",
        "# Compile the model\n",
        "model.compile(optimizer='adam',\n",
        "              loss='sparse_categorical_crossentropy',\n",
        "              metrics=['accuracy'])\n",
        "\n",
        "# Train the model\n",
        "model.fit(x_train, y_train, epochs=5)\n",
        "\n",
        "# Save the model with the name 'my_model.h5'\n",
        "model.save('my_model.h5')\n",
        "\n",
        "# Get the filters of the first convolutional layer\n",
        "filters, _ = model.layers[0].get_weights()\n",
        "\n",
        "# Normalize the filters between 0 and 1 for visualization\n",
        "filters = (filters - filters.min()) / (filters.max() - filters.min())\n",
        "\n",
        "# Plot the filters as 8x4 grid\n",
        "fig, axes = plt.subplots(8, 4, figsize=(10, 15))\n",
        "for i, ax in enumerate(axes.flat):\n",
        "    if i < filters.shape[3]:\n",
        "        img = filters[:, :, 0, i]\n",
        "        ax.imshow(img, cmap='gray')\n",
        "    ax.axis('off')\n",
        "plt.show()\n"
      ],
      "metadata": {
        "id": "rJCo5rQcXcA1",
        "outputId": "025f6918-b047-468a-ac13-9c15b8c4fb1a",
        "colab": {
          "base_uri": "https://localhost:8080/",
          "height": 1000
        }
      },
      "execution_count": null,
      "outputs": [
        {
          "output_type": "stream",
          "name": "stdout",
          "text": [
            "Epoch 1/5\n",
            "1875/1875 [==============================] - 40s 21ms/step - loss: 0.4356 - accuracy: 0.8485\n",
            "Epoch 2/5\n",
            "1875/1875 [==============================] - 38s 20ms/step - loss: 0.3078 - accuracy: 0.8922\n",
            "Epoch 3/5\n",
            "1875/1875 [==============================] - 38s 20ms/step - loss: 0.2741 - accuracy: 0.9034\n",
            "Epoch 4/5\n",
            "1875/1875 [==============================] - 38s 20ms/step - loss: 0.2506 - accuracy: 0.9119\n",
            "Epoch 5/5\n",
            "1875/1875 [==============================] - 36s 19ms/step - loss: 0.2339 - accuracy: 0.9168\n"
          ]
        },
        {
          "output_type": "display_data",
          "data": {
            "text/plain": [
              "<Figure size 1000x1500 with 32 Axes>"
            ],
            "image/png": "[encoded data removed]"
          },
          "metadata": {}
        }
      ]
    },
    {
      "cell_type": "markdown",
      "source": [
        "This code loads the Fashion-MNIST dataset using TensorFlow and selects an image from the dataset. It then loads a pre-trained model, defines a new model that outputs the activations of each layer, and predicts the label of the selected image using the pre-trained model. Finally, it plots the selected image and the activations of each layer. The model summary is also printed."
      ],
      "metadata": {
        "id": "50Lnx39b34lw"
      }
    },
    {
      "cell_type": "code",
      "source": [
        "import matplotlib.pyplot as plt\n",
        "import tensorflow as tf\n",
        "\n",
        "# Load the Fashion-MNIST dataset\n",
        "(x_train, y_train), (_, _) = tf.keras.datasets.fashion_mnist.load_data()\n",
        "\n",
        "# Define the class names\n",
        "class_names = ['T-shirt/top', 'Trouser', 'Pullover', 'Dress', 'Coat',\n",
        "               'Sandal', 'Shirt', 'Sneaker', 'Bag', 'Ankle boot']\n",
        "\n",
        "# Select an image from the dataset\n",
        "image_index = 20\n",
        "selected_image = x_train[image_index]\n",
        "selected_label = y_train[image_index]\n",
        "\n",
        "# Plot the selected image\n",
        "plt.imshow(selected_image, cmap='gray')\n",
        "plt.title(class_names[selected_label])\n",
        "plt.axis('off')\n",
        "plt.show()\n",
        "\n",
        "# Reshape the selected image to add the channel dimension\n",
        "selected_image = selected_image.reshape(1, 28, 28, 1)\n",
        "\n",
        "# Load the trained model\n",
        "model = tf.keras.models.load_model('my_model.h5')\n",
        "\n",
        "# Define a list to store the output of each layer\n",
        "layer_outputs = [layer.output for layer in model.layers]\n",
        "\n",
        "# Create a new model that outputs the activations of each layer\n",
        "activation_model = tf.keras.models.Model(inputs=model.input, outputs=layer_outputs)\n",
        "\n",
        "# Predict the label of the selected image using the trained model\n",
        "predictions = model.predict(selected_image)\n",
        "\n",
        "# Get the activations of each layer for the selected image\n",
        "activations = activation_model.predict(selected_image)\n",
        "\n",
        "# Plot the selected image and the activations of each layer\n",
        "plt.figure(figsize=(10, 10))\n",
        "\n",
        "# Plot the selected image\n",
        "plt.subplot(5, 5, 1)\n",
        "plt.imshow(selected_image.reshape(28, 28), cmap='gray')\n",
        "plt.title(class_names[selected_label])\n",
        "plt.axis('off')\n",
        "\n",
        "# Plot the activations of each layer\n",
        "for i in range(len(activations)):\n",
        "    plt.subplot(5, 5, i+2)\n",
        "    plt.title(model.layers[i].name)\n",
        "    plt.axis('off')\n",
        "    if len(activations[i].shape) == 4:\n",
        "        plt.imshow(activations[i][0, :, :, 0], cmap='gray')\n",
        "    else:\n",
        "        plt.plot(activations[i][0])\n",
        "plt.show()\n",
        "# Print the summary of the model\n",
        "model.summary()\n"
      ],
      "metadata": {
        "id": "O4aQ6-FIXcyj",
        "colab": {
          "base_uri": "https://localhost:8080/",
          "height": 950
        },
        "outputId": "2762a9a2-e6ba-4c5b-e0cd-a0926c505eaa"
      },
      "execution_count": null,
      "outputs": [
        {
          "output_type": "display_data",
          "data": {
            "text/plain": [
              "<Figure size 640x480 with 1 Axes>"
            ],
            "image/png": "[encoded data removed]"
          },
          "metadata": {}
        },
        {
          "output_type": "stream",
          "name": "stdout",
          "text": [
            "1/1 [==============================] - 0s 116ms/step\n",
            "1/1 [==============================] - 0s 106ms/step\n"
          ]
        },
        {
          "output_type": "display_data",
          "data": {
            "text/plain": [
              "<Figure size 1000x1000 with 5 Axes>"
            ],
            "image/png": "[encoded data removed]"
          },
          "metadata": {}
        },
        {
          "output_type": "stream",
          "name": "stdout",
          "text": [
            "Model: \"sequential_1\"\n",
            "_________________________________________________________________\n",
            " Layer (type)                Output Shape              Param #   \n",
            "=================================================================\n",
            " conv2d_2 (Conv2D)           (None, 26, 26, 32)        320       \n",
            "                                                                 \n",
            " max_pooling2d_1 (MaxPooling  (None, 13, 13, 32)       0         \n",
            " 2D)                                                             \n",
            "                                                                 \n",
            " flatten_1 (Flatten)         (None, 5408)              0         \n",
            "                                                                 \n",
            " dense_1 (Dense)             (None, 10)                54090     \n",
            "                                                                 \n",
            "=================================================================\n",
            "Total params: 54,410\n",
            "Trainable params: 54,410\n",
            "Non-trainable params: 0\n",
            "_________________________________________________________________\n"
          ]
        }
      ]
    },
    {
      "cell_type": "code",
      "source": [],
      "metadata": {
        "id": "vid7RlJcd7tn"
      },
      "execution_count": null,
      "outputs": []
    }
  ]
}